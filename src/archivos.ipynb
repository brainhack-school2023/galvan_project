{
 "cells": [
  {
   "cell_type": "code",
   "execution_count": 1,
   "metadata": {},
   "outputs": [],
   "source": [
    "import sys\n",
    "assert sys.version_info >= (3, 5)\n",
    "import os\n",
    "import pandas as pd\n",
    "import seaborn as sns\n",
    "import numpy as np"
   ]
  },
  {
   "cell_type": "code",
   "execution_count": 64,
   "metadata": {},
   "outputs": [],
   "source": [
    "colspecs = [(0,6), (6,12), (12,32), (32,52), (52,56), (56,65), (65,75), (75,79)]\n",
    "\n",
    "dat = pd.read_fwf(\"../data/union/End/temp-03-24.txt\", colspecs=colspecs, header=None, index=None, encoding='ISO-8859-1')\n",
    "dat.columns=[\"nro_legaj\",\"nro_cargo\",\"apellido\",\"nombre1\",\"dni\",\"nrodni\",\"impp_conce\",\"impp_conce_1\"]\n",
    "\n",
    "dat['nombre'] = dat.apellido.str.cat(dat.nombre1, sep=',')\n",
    "\n",
    "columnas=[\"nro_legaj\",\"nro_cargo\",\"nombre\",\"impp_conce\",\"impo_conce_1\"]\n",
    "df = pd.DataFrame(dat, columns=columnas)\n",
    "\n",
    "df.to_csv(r'../data/union/End/archivo.txt', header=True, index=None, sep='\\t', mode='a')"
   ]
  }
 ],
 "metadata": {
  "kernelspec": {
   "display_name": "venv",
   "language": "python",
   "name": "python3"
  },
  "language_info": {
   "codemirror_mode": {
    "name": "ipython",
    "version": 3
   },
   "file_extension": ".py",
   "mimetype": "text/x-python",
   "name": "python",
   "nbconvert_exporter": "python",
   "pygments_lexer": "ipython3",
   "version": "3.8.10"
  }
 },
 "nbformat": 4,
 "nbformat_minor": 2
}
