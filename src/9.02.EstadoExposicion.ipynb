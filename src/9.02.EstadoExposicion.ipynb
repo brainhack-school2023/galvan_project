{
 "cells": [
  {
   "cell_type": "markdown",
   "metadata": {},
   "source": [
    "### Top 10 Algorithms for Binary Classification \n",
    "\n",
    "1. Naive Bayes\n",
    "2. Logistic Regression\n",
    "3. K-Nearest Neighbours\n",
    "4. Support Vector Machine\n",
    "5. Decision Tree \n",
    "6. Bagging  Decision Tree (Ensemble Learning I)\n",
    "7. Boosted Decision Tree (Ensemble Learning II)\n",
    "8. Random Forest (Ensemble Learning III)\n",
    "9. Voting Classification (Ensemble Learning IV)\n",
    "10. Deep Learning with a neuronal network\n",
    "\n",
    "https://github.com/alexortner/teaching/blob/master/binary_classification/Top_10_Binary_Classification_BreastCancer.ipynb"
   ]
  },
  {
   "cell_type": "code",
   "execution_count": 1,
   "metadata": {},
   "outputs": [],
   "source": [
    "import sys\n",
    "assert sys.version_info >= (3, 5)\n",
    "import os\n",
    "import pandas as pd\n",
    "import seaborn as sns\n",
    "import numpy as np\n",
    "import matplotlib.pyplot as plt\n",
    "import warnings\n",
    "warnings.filterwarnings('ignore') # Para evitar los molestos avisos.\n",
    "%matplotlib inline"
   ]
  },
  {
   "cell_type": "code",
   "execution_count": 2,
   "metadata": {},
   "outputs": [],
   "source": [
    "# Estandarizador (transforma las variables en z-scores)\n",
    "import scipy.stats as st\n",
    "from sklearn.model_selection import RandomizedSearchCV, train_test_split, KFold\n",
    "from sklearn.linear_model import LogisticRegression\n",
    "from sklearn.metrics import roc_auc_score, classification_report, mean_squared_error, confusion_matrix, accuracy_score, precision_score, recall_score, mean_squared_error, ConfusionMatrixDisplay # Accuracy metrics \n",
    "from sklearn.compose import ColumnTransformer\n",
    "from sklearn.pipeline import Pipeline, make_pipeline\n",
    "from sklearn.preprocessing import MinMaxScaler, PolynomialFeatures, StandardScaler\n",
    "from scikitplot.metrics import plot_roc\n"
   ]
  },
  {
   "cell_type": "code",
   "execution_count": 3,
   "metadata": {},
   "outputs": [],
   "source": [
    "import utils as ut\n",
    "import pickle\n",
    "# Indicamos que los tipos de datos float se muestren con 2 decimales\n",
    "pd.options.display.float_format = '{:.2f}'.format"
   ]
  },
  {
   "cell_type": "code",
   "execution_count": 4,
   "metadata": {},
   "outputs": [],
   "source": [
    "DATA_PATH = \"../data/union/End\"\n",
    "def load_data_prep(data_path=DATA_PATH):\n",
    "    csv_path = os.path.join(data_path, \"dataset_final.csv\")\n",
    "    return pd.read_csv(csv_path)"
   ]
  },
  {
   "cell_type": "code",
   "execution_count": 5,
   "metadata": {},
   "outputs": [],
   "source": [
    "df = load_data_prep()"
   ]
  },
  {
   "cell_type": "code",
   "execution_count": 6,
   "metadata": {},
   "outputs": [
    {
     "data": {
      "text/plain": [
       "(96, 8)"
      ]
     },
     "execution_count": 6,
     "metadata": {},
     "output_type": "execute_result"
    }
   ],
   "source": [
    "#df1 = df[[ 'ccbd_diameter', 'sl2l_mean_length',\n",
    "# 'sl2l_diameter', 'ccbd_mean_length',\n",
    "# 'sl2l_volume', 'tral_volume','label']]\n",
    "df1 = df[['sl2l_diameter', 'ccbd_diameter', 'ifol_diameter', 'ecpl_volume', 'tral_volume', \n",
    "       'sl2l_mean_length', 'ccbd_mean_length', 'label']]\n",
    "df1.shape"
   ]
  },
  {
   "cell_type": "code",
   "execution_count": 7,
   "metadata": {},
   "outputs": [],
   "source": [
    "A = ['sl2l_diameter', 'ccbd_diameter', 'ifol_diameter', 'ecpl_volume', 'tral_volume', \n",
    "       'sl2l_mean_length', 'ccbd_mean_length']"
   ]
  },
  {
   "cell_type": "code",
   "execution_count": 8,
   "metadata": {},
   "outputs": [],
   "source": [
    "# Partición en train y test\n",
    "y = df1.loc[:, df1.columns == 'label']\n",
    "X = df1.loc[:, df1.columns != 'label']\n",
    "X_train, X_test, y_train, y_test = train_test_split(X, y, test_size=0.2, random_state=99)"
   ]
  },
  {
   "cell_type": "code",
   "execution_count": 9,
   "metadata": {},
   "outputs": [],
   "source": [
    "X_= X_train.reset_index()\n",
    "y_= y_train.reset_index()\n",
    "X_=X_.drop('index', axis=1)\n",
    "y_=y_.drop('index', axis=1)"
   ]
  },
  {
   "cell_type": "code",
   "execution_count": 10,
   "metadata": {},
   "outputs": [],
   "source": [
    "std_scale = StandardScaler() # Creamos el estandarizador para usarlo posteriormente\n",
    "minmx_scale = MinMaxScaler()"
   ]
  },
  {
   "cell_type": "code",
   "execution_count": 11,
   "metadata": {},
   "outputs": [],
   "source": [
    "from sklearn.naive_bayes import MultinomialNB\n",
    "from sklearn.linear_model import LogisticRegression # sci-kit learn\n",
    "from sklearn.neighbors import KNeighborsClassifier\n",
    "from sklearn.svm import LinearSVC\n",
    "from sklearn.tree import DecisionTreeClassifier\n",
    "from sklearn.ensemble import BaggingClassifier\n",
    "from sklearn.ensemble import AdaBoostClassifier\n",
    "from sklearn.ensemble import RandomForestClassifier\n",
    "from sklearn.ensemble import VotingClassifier\n",
    "from sklearn.model_selection import StratifiedKFold\n"
   ]
  },
  {
   "cell_type": "code",
   "execution_count": 12,
   "metadata": {},
   "outputs": [],
   "source": [
    "pipelines = {\n",
    "    'mnb':make_pipeline(MinMaxScaler(), MultinomialNB()),\n",
    "    'lr':make_pipeline(StandardScaler(), LogisticRegression(fit_intercept=True, penalty='l2', tol=1e-5, C=0.8, class_weight='balanced', solver='newton-cg', max_iter=5000, warm_start=True)),\n",
    "    'knn':make_pipeline(StandardScaler(), KNeighborsClassifier(algorithm = 'brute', n_jobs=-1)),\n",
    "    'svm':make_pipeline(StandardScaler(), LinearSVC(C=0.0001)),\n",
    "    'clf':make_pipeline(StandardScaler(), DecisionTreeClassifier(min_samples_split=10,max_depth=3)),\n",
    "    'bglr':make_pipeline(StandardScaler(), BaggingClassifier(LogisticRegression(fit_intercept=True, penalty='l2', tol=1e-5, C=0.8, class_weight='balanced', solver='newton-cg', max_iter=5000, warm_start=True),max_samples=0.5,max_features=1.0,n_estimators=10)),\n",
    "    'bg':make_pipeline(StandardScaler(), BaggingClassifier(DecisionTreeClassifier(min_samples_split=10,max_depth=3),max_samples=0.5,max_features=1.0,n_estimators=10)),\n",
    "    'adb':make_pipeline(StandardScaler(), AdaBoostClassifier(DecisionTreeClassifier(max_depth=2),n_estimators=100,learning_rate=0.5)),\n",
    "    'rf':make_pipeline(StandardScaler(), RandomForestClassifier(n_estimators = 100, n_jobs = -1, oob_score = True, bootstrap = True, random_state=42, max_depth=3)),\n",
    "    'evc':make_pipeline(MinMaxScaler(), VotingClassifier(estimators=[('mnb',MultinomialNB()),('lr', LogisticRegression(fit_intercept=True, penalty='l2', tol=1e-5, C=0.8, class_weight='balanced', solver='newton-cg', max_iter=5000, warm_start=True)),('rf',RandomForestClassifier(n_estimators=300,max_depth=3)),('svm',LinearSVC(C=0.0001))]))}\n"
   ]
  },
  {
   "cell_type": "code",
   "execution_count": 13,
   "metadata": {},
   "outputs": [
    {
     "name": "stdout",
     "output_type": "stream",
     "text": [
      "mnb ac-sc: 0.625 pr-sc: 0.633 rc-sc: 0.625\n",
      "mnb ac-sc: 0.533 pr-sc: 0.553 rc-sc: 0.533\n",
      "mnb ac-sc: 0.8 pr-sc: 0.855 rc-sc: 0.8\n",
      "mnb ac-sc: 0.667 pr-sc: 0.673 rc-sc: 0.667\n",
      "mnb ac-sc: 0.867 pr-sc: 0.896 rc-sc: 0.867\n",
      "----------------------------------------------------\n",
      "--------------PROMEDIOS--DE-- mnb -------------------------\n",
      "Accuracy 0.698 precision_score 0.722 recall_score 0.698\n",
      "----------------------------------------------------\n",
      "----------------------------------------------------\n",
      "lr ac-sc: 0.812 pr-sc: 0.817 rc-sc: 0.812\n",
      "lr ac-sc: 0.733 pr-sc: 0.733 rc-sc: 0.733\n",
      "lr ac-sc: 0.667 pr-sc: 0.707 rc-sc: 0.667\n",
      "lr ac-sc: 0.6 pr-sc: 0.615 rc-sc: 0.6\n",
      "lr ac-sc: 0.733 pr-sc: 0.733 rc-sc: 0.733\n",
      "----------------------------------------------------\n",
      "--------------PROMEDIOS--DE-- lr -------------------------\n",
      "Accuracy 0.709 precision_score 0.721 recall_score 0.709\n",
      "----------------------------------------------------\n",
      "----------------------------------------------------\n",
      "knn ac-sc: 0.375 pr-sc: 0.333 rc-sc: 0.375\n",
      "knn ac-sc: 0.867 pr-sc: 0.896 rc-sc: 0.867\n",
      "knn ac-sc: 0.933 pr-sc: 0.941 rc-sc: 0.933\n",
      "knn ac-sc: 0.533 pr-sc: 0.53 rc-sc: 0.533\n",
      "knn ac-sc: 0.733 pr-sc: 0.747 rc-sc: 0.733\n",
      "----------------------------------------------------\n",
      "--------------PROMEDIOS--DE-- knn -------------------------\n",
      "Accuracy 0.688 precision_score 0.689 recall_score 0.688\n",
      "----------------------------------------------------\n",
      "----------------------------------------------------\n",
      "svm ac-sc: 0.75 pr-sc: 0.75 rc-sc: 0.75\n",
      "svm ac-sc: 0.8 pr-sc: 0.807 rc-sc: 0.8\n",
      "svm ac-sc: 0.6 pr-sc: 0.6 rc-sc: 0.6\n",
      "svm ac-sc: 0.467 pr-sc: 0.467 rc-sc: 0.467\n",
      "svm ac-sc: 0.733 pr-sc: 0.756 rc-sc: 0.733\n",
      "----------------------------------------------------\n",
      "--------------PROMEDIOS--DE-- svm -------------------------\n",
      "Accuracy 0.67 precision_score 0.676 recall_score 0.67\n",
      "----------------------------------------------------\n",
      "----------------------------------------------------\n",
      "clf ac-sc: 0.688 pr-sc: 0.808 rc-sc: 0.688\n",
      "clf ac-sc: 0.733 pr-sc: 0.747 rc-sc: 0.733\n",
      "clf ac-sc: 0.6 pr-sc: 0.771 rc-sc: 0.6\n",
      "clf ac-sc: 0.733 pr-sc: 0.733 rc-sc: 0.733\n",
      "clf ac-sc: 0.6 pr-sc: 0.6 rc-sc: 0.6\n",
      "----------------------------------------------------\n",
      "--------------PROMEDIOS--DE-- clf -------------------------\n",
      "Accuracy 0.671 precision_score 0.732 recall_score 0.671\n",
      "----------------------------------------------------\n",
      "----------------------------------------------------\n",
      "bglr ac-sc: 0.625 pr-sc: 0.633 rc-sc: 0.625\n",
      "bglr ac-sc: 0.6 pr-sc: 0.6 rc-sc: 0.6\n",
      "bglr ac-sc: 0.6 pr-sc: 0.622 rc-sc: 0.6\n",
      "bglr ac-sc: 0.667 pr-sc: 0.707 rc-sc: 0.667\n",
      "bglr ac-sc: 0.8 pr-sc: 0.804 rc-sc: 0.8\n",
      "----------------------------------------------------\n",
      "--------------PROMEDIOS--DE-- bglr -------------------------\n",
      "Accuracy 0.658 precision_score 0.673 recall_score 0.658\n",
      "----------------------------------------------------\n",
      "----------------------------------------------------\n",
      "bg ac-sc: 0.75 pr-sc: 0.767 rc-sc: 0.75\n",
      "bg ac-sc: 0.733 pr-sc: 0.747 rc-sc: 0.733\n",
      "bg ac-sc: 0.8 pr-sc: 0.807 rc-sc: 0.8\n",
      "bg ac-sc: 0.8 pr-sc: 0.804 rc-sc: 0.8\n",
      "bg ac-sc: 0.6 pr-sc: 0.615 rc-sc: 0.6\n",
      "----------------------------------------------------\n",
      "--------------PROMEDIOS--DE-- bg -------------------------\n",
      "Accuracy 0.737 precision_score 0.748 recall_score 0.737\n",
      "----------------------------------------------------\n",
      "----------------------------------------------------\n",
      "adb ac-sc: 0.625 pr-sc: 0.625 rc-sc: 0.625\n",
      "adb ac-sc: 0.667 pr-sc: 0.673 rc-sc: 0.667\n",
      "adb ac-sc: 0.467 pr-sc: 0.453 rc-sc: 0.467\n",
      "adb ac-sc: 0.6 pr-sc: 0.6 rc-sc: 0.6\n",
      "adb ac-sc: 0.533 pr-sc: 0.538 rc-sc: 0.533\n",
      "----------------------------------------------------\n",
      "--------------PROMEDIOS--DE-- adb -------------------------\n",
      "Accuracy 0.578 precision_score 0.578 recall_score 0.578\n",
      "----------------------------------------------------\n",
      "----------------------------------------------------\n",
      "rf ac-sc: 0.625 pr-sc: 0.633 rc-sc: 0.625\n",
      "rf ac-sc: 0.8 pr-sc: 0.807 rc-sc: 0.8\n",
      "rf ac-sc: 0.467 pr-sc: 0.467 rc-sc: 0.467\n",
      "rf ac-sc: 0.667 pr-sc: 0.667 rc-sc: 0.667\n",
      "rf ac-sc: 0.733 pr-sc: 0.733 rc-sc: 0.733\n",
      "----------------------------------------------------\n",
      "--------------PROMEDIOS--DE-- rf -------------------------\n",
      "Accuracy 0.658 precision_score 0.661 recall_score 0.658\n",
      "----------------------------------------------------\n",
      "----------------------------------------------------\n",
      "evc ac-sc: 0.562 pr-sc: 0.573 rc-sc: 0.562\n",
      "evc ac-sc: 0.8 pr-sc: 0.804 rc-sc: 0.8\n",
      "evc ac-sc: 0.867 pr-sc: 0.867 rc-sc: 0.867\n",
      "evc ac-sc: 0.533 pr-sc: 0.589 rc-sc: 0.533\n",
      "evc ac-sc: 0.733 pr-sc: 0.83 rc-sc: 0.733\n",
      "----------------------------------------------------\n",
      "--------------PROMEDIOS--DE-- evc -------------------------\n",
      "Accuracy 0.699 precision_score 0.732 recall_score 0.699\n",
      "----------------------------------------------------\n",
      "----------------------------------------------------\n"
     ]
    }
   ],
   "source": [
    "skf = StratifiedKFold(n_splits=5, shuffle=True) # 5 folds es un número típico si tenemos suficientes datos. Pedimos shuffle=True para que sea al azar la separación en subgrupos\n",
    "skf.get_n_splits(X_, y_) # arma los folds a partir de los datos\n",
    "\n",
    "# acc_values = [] # aca es donde van a ir a parar los accuracys de cada fold\n",
    "# pr_sc_values = [] # aca es donde van a ir a parar los accuracys de cada fold\n",
    "# rc_sc_values = [] # aca es donde van a ir a parar los accuracys de cada fold\n",
    "# scores = np.array([])     # aca es donde van a ir a parar los scores computados para todos los casos\n",
    "# indices = np.array([])    # aca es donde van a ir a parar los indices correspondientes a las entradas de scores\n",
    "fit_models = {}\n",
    "\n",
    "for algo, pipeline in pipelines.items():\n",
    "      acc_values = []\n",
    "      pr_sc_values = [] \n",
    "      rc_sc_values = []\n",
    "      for train_index, test_index in skf.split(X_, y_): # va generando los indices que corresponden a train y test en cada fold\n",
    "            X_train_, X_test_ = X_.iloc[train_index], X_.iloc[test_index] # arma que es dato de entrenamiento y qué es dato de evaluación\n",
    "            y_train_, y_test_ = y_.iloc[train_index], y_.iloc[test_index]     # idem con los targets\n",
    "            \n",
    "            #scaler = MinMaxScaler() # primero creo un objeto MinMaxScaler. Por defecto, esto normaliza los datos al intervalo [0,1]\n",
    "            #scaler.fit(X_train_) # encuentro los parametros para el escaleo\n",
    "            #X_train_ = scaler.transform(X_train_) # aplico la transformacion\n",
    "\n",
    "            #scaler = MinMaxScaler() # primero creo un objeto MinMaxScaler. Por defecto, esto normaliza los datos al intervalo [0,1]\n",
    "            #scaler.fit(X_test_) # encuentro los parametros para el escaleo\n",
    "            #X_test_ = scaler.transform(X_test_) # aplico la transformacion\n",
    "            \n",
    "            model = pipeline.fit(X_train_, np.ravel(y_train_))\n",
    "            probas_test = model.predict(X_test_)  # probabilidades con datos de evaluación\n",
    "            \n",
    "            acc_test = accuracy_score(y_test_, probas_test)\n",
    "            pr_sc = precision_score(y_test_.values, probas_test, average=\"weighted\", pos_label=1)\n",
    "            rc_sc = recall_score(y_test_.values, probas_test, average=\"weighted\", pos_label=1)\n",
    "            \n",
    "            acc_values.append(acc_test)\n",
    "            pr_sc_values.append(pr_sc)\n",
    "            rc_sc_values.append(rc_sc)\n",
    "            \n",
    "            print(algo,'ac-sc: {}'.format(round(accuracy_score(y_test_, probas_test),3)),\n",
    "                  'pr-sc: {}'.format(round(precision_score(y_test_.values, probas_test, average=\"weighted\", pos_label=\"arriba\"),3)),\n",
    "                  'rc-sc: {}'.format(round(recall_score(y_test_.values, probas_test, average=\"weighted\", pos_label=\"arriba\"),3)))\n",
    "      fit_models[algo] = model\n",
    "            \n",
    "      print('----------------------------------------------------')\n",
    "      print('--------------PROMEDIOS--DE--',algo,'-------------------------')\n",
    "      print('Accuracy {}'.format(round(np.mean(acc_values),3)), \n",
    "      'precision_score {}'.format(round(np.mean(pr_sc_values),3)),\n",
    "      'recall_score {}'.format(round(np.mean(rc_sc_values),3)))\n",
    "      print('----------------------------------------------------')\n",
    "      print('----------------------------------------------------')\n",
    "\n",
    "      fit_models[algo] = model"
   ]
  },
  {
   "cell_type": "markdown",
   "metadata": {},
   "source": [
    "https://stackoverflow.com/questions/72624190/how-to-use-sklearns-standard-scaler-with-make-pipeline"
   ]
  },
  {
   "cell_type": "markdown",
   "metadata": {},
   "source": [
    "### 2. Logistic Regression"
   ]
  },
  {
   "cell_type": "code",
   "execution_count": 14,
   "metadata": {},
   "outputs": [],
   "source": [
    "from sklearn.linear_model import LogisticRegressionCV, LogisticRegression # sci-kit learn"
   ]
  },
  {
   "cell_type": "code",
   "execution_count": 15,
   "metadata": {},
   "outputs": [
    {
     "name": "stdout",
     "output_type": "stream",
     "text": [
      "train shape: (76, 7)\n",
      "score on test: 0.8\n",
      "score on train: 0.75\n"
     ]
    }
   ],
   "source": [
    "# lr = LogisticRegression(fit_intercept=True, penalty='l2', tol=1e-5, C=0.8, class_weight='balanced', solver='newton-cg', max_iter=5000, warm_start=True)\n",
    "# lr.fit(X_scaled, y_train)\n",
    "\n",
    "print(\"train shape: \" + str(X_train.shape))\n",
    "print(\"score on test: \" + str(fit_models['lr'].score(X_test, y_test)))\n",
    "print(\"score on train: \"+ str(fit_models['lr'].score(X_, y_train)))"
   ]
  },
  {
   "cell_type": "code",
   "execution_count": 16,
   "metadata": {},
   "outputs": [
    {
     "data": {
      "image/png": "[encoded data removed]",
      "text/plain": [
       "<Figure size 640x480 with 2 Axes>"
      ]
     },
     "metadata": {},
     "output_type": "display_data"
    }
   ],
   "source": [
    "class_names = ['Estudio', 'Control']\n",
    "ConfusionMatrixDisplay.from_estimator(fit_models['lr'], X_test, y_test, display_labels=class_names, cmap=plt.cm.Blues)\n",
    "plt.show()"
   ]
  },
  {
   "cell_type": "code",
   "execution_count": 17,
   "metadata": {},
   "outputs": [
    {
     "name": "stdout",
     "output_type": "stream",
     "text": [
      "              precision    recall  f1-score   support\n",
      "\n",
      "           0       0.75      0.75      0.75         8\n",
      "           1       0.83      0.83      0.83        12\n",
      "\n",
      "    accuracy                           0.80        20\n",
      "   macro avg       0.79      0.79      0.79        20\n",
      "weighted avg       0.80      0.80      0.80        20\n",
      "\n"
     ]
    }
   ],
   "source": [
    "print(classification_report(y_true=y_test,y_pred=fit_models['lr'].predict(X_test)))"
   ]
  },
  {
   "cell_type": "code",
   "execution_count": 18,
   "metadata": {},
   "outputs": [
    {
     "name": "stdout",
     "output_type": "stream",
     "text": [
      "-0.011915241990418617 -0.08996191803848318\n"
     ]
    }
   ],
   "source": [
    "y_predicted = fit_models['lr'].predict_proba(X_test)\n",
    "lr = fit_models['lr'][-1]\n",
    "print(lr.coef_[0][0], lr.intercept_[0])"
   ]
  },
  {
   "cell_type": "code",
   "execution_count": 19,
   "metadata": {},
   "outputs": [],
   "source": [
    "import math\n",
    "std = StandardScaler()\n",
    "std.fit(df1)\n",
    "data = std.transform(df1)"
   ]
  },
  {
   "cell_type": "code",
   "execution_count": 20,
   "metadata": {},
   "outputs": [],
   "source": [
    "std_df = pd.DataFrame(data, index=df1.index, columns=df1.columns)\n",
    "dat = lr.intercept_[0]+lr.intercept_[0]+lr.coef_[0][0]*std_df.sl2l_diameter.astype(float)+ \\\n",
    "                         lr.coef_[0][1]*std_df.ccbd_diameter.astype(float)+\\\n",
    "                         lr.coef_[0][2]*std_df.ifol_diameter.astype(float)+\\\n",
    "                         lr.coef_[0][3]*std_df.ecpl_volume.astype(float)+\\\n",
    "                         lr.coef_[0][4]*std_df.tral_volume.astype(float)+\\\n",
    "                         lr.coef_[0][5]*std_df.sl2l_mean_length.astype(float)+\\\n",
    "                         lr.coef_[0][6]*std_df.ccbd_mean_length.astype(float)"
   ]
  },
  {
   "cell_type": "code",
   "execution_count": 21,
   "metadata": {},
   "outputs": [],
   "source": [
    "dt = dat.to_frame()\n",
    "pscore = []\n",
    "\n",
    "for index, row in dt.iterrows():\n",
    "    pscore = np.append(pscore,math.exp(row[0])/(1+math.exp(row[0])))\n",
    "\n",
    "df1['pscore'] = pd.DataFrame(pscore)\n"
   ]
  },
  {
   "cell_type": "code",
   "execution_count": 22,
   "metadata": {},
   "outputs": [],
   "source": [
    "psbin = []\n",
    "num0 = 0\n",
    "num1 = 1\n",
    "for index, row in df1.iterrows():\n",
    "      if row[8] > 0.49:\n",
    "          psbin = np.append(psbin,num1)\n",
    "      else:\n",
    "          psbin = np.append(psbin,num0)\n",
    "df1['psbin'] = pd.DataFrame(psbin).astype(np.int64)\n",
    "#df1['psbin'] = df['psbin'].astype(np.int64)\n"
   ]
  },
  {
   "cell_type": "code",
   "execution_count": 23,
   "metadata": {},
   "outputs": [
    {
     "data": {
      "text/html": [
       "<div>\n",
       "<style scoped>\n",
       "    .dataframe tbody tr th:only-of-type {\n",
       "        vertical-align: middle;\n",
       "    }\n",
       "\n",
       "    .dataframe tbody tr th {\n",
       "        vertical-align: top;\n",
       "    }\n",
       "\n",
       "    .dataframe thead th {\n",
       "        text-align: right;\n",
       "    }\n",
       "</style>\n",
       "<table border=\"1\" class=\"dataframe\">\n",
       "  <thead>\n",
       "    <tr style=\"text-align: right;\">\n",
       "      <th></th>\n",
       "      <th>sl2l_diameter</th>\n",
       "      <th>ccbd_diameter</th>\n",
       "      <th>ifol_diameter</th>\n",
       "      <th>ecpl_volume</th>\n",
       "      <th>tral_volume</th>\n",
       "      <th>sl2l_mean_length</th>\n",
       "      <th>ccbd_mean_length</th>\n",
       "      <th>label</th>\n",
       "      <th>pscore</th>\n",
       "      <th>psbin</th>\n",
       "    </tr>\n",
       "  </thead>\n",
       "  <tbody>\n",
       "    <tr>\n",
       "      <th>0</th>\n",
       "      <td>25.07</td>\n",
       "      <td>27.36</td>\n",
       "      <td>14.21</td>\n",
       "      <td>4295.10</td>\n",
       "      <td>19479.70</td>\n",
       "      <td>77.97</td>\n",
       "      <td>111.24</td>\n",
       "      <td>1</td>\n",
       "      <td>0.78</td>\n",
       "      <td>1</td>\n",
       "    </tr>\n",
       "    <tr>\n",
       "      <th>1</th>\n",
       "      <td>21.35</td>\n",
       "      <td>25.31</td>\n",
       "      <td>14.68</td>\n",
       "      <td>6884.02</td>\n",
       "      <td>14019.30</td>\n",
       "      <td>71.58</td>\n",
       "      <td>115.11</td>\n",
       "      <td>1</td>\n",
       "      <td>0.48</td>\n",
       "      <td>0</td>\n",
       "    </tr>\n",
       "    <tr>\n",
       "      <th>2</th>\n",
       "      <td>15.17</td>\n",
       "      <td>26.07</td>\n",
       "      <td>7.89</td>\n",
       "      <td>6884.02</td>\n",
       "      <td>17719.00</td>\n",
       "      <td>60.09</td>\n",
       "      <td>109.94</td>\n",
       "      <td>1</td>\n",
       "      <td>0.74</td>\n",
       "      <td>1</td>\n",
       "    </tr>\n",
       "    <tr>\n",
       "      <th>3</th>\n",
       "      <td>21.80</td>\n",
       "      <td>30.96</td>\n",
       "      <td>15.94</td>\n",
       "      <td>8952.53</td>\n",
       "      <td>15856.40</td>\n",
       "      <td>74.39</td>\n",
       "      <td>110.00</td>\n",
       "      <td>1</td>\n",
       "      <td>0.88</td>\n",
       "      <td>1</td>\n",
       "    </tr>\n",
       "    <tr>\n",
       "      <th>4</th>\n",
       "      <td>25.37</td>\n",
       "      <td>24.65</td>\n",
       "      <td>8.31</td>\n",
       "      <td>6884.02</td>\n",
       "      <td>22291.20</td>\n",
       "      <td>76.13</td>\n",
       "      <td>131.73</td>\n",
       "      <td>1</td>\n",
       "      <td>0.33</td>\n",
       "      <td>0</td>\n",
       "    </tr>\n",
       "    <tr>\n",
       "      <th>...</th>\n",
       "      <td>...</td>\n",
       "      <td>...</td>\n",
       "      <td>...</td>\n",
       "      <td>...</td>\n",
       "      <td>...</td>\n",
       "      <td>...</td>\n",
       "      <td>...</td>\n",
       "      <td>...</td>\n",
       "      <td>...</td>\n",
       "      <td>...</td>\n",
       "    </tr>\n",
       "    <tr>\n",
       "      <th>91</th>\n",
       "      <td>25.60</td>\n",
       "      <td>31.12</td>\n",
       "      <td>14.71</td>\n",
       "      <td>6136.14</td>\n",
       "      <td>15791.80</td>\n",
       "      <td>68.88</td>\n",
       "      <td>121.84</td>\n",
       "      <td>0</td>\n",
       "      <td>0.55</td>\n",
       "      <td>1</td>\n",
       "    </tr>\n",
       "    <tr>\n",
       "      <th>92</th>\n",
       "      <td>23.55</td>\n",
       "      <td>28.11</td>\n",
       "      <td>15.56</td>\n",
       "      <td>9530.31</td>\n",
       "      <td>7114.43</td>\n",
       "      <td>75.91</td>\n",
       "      <td>121.55</td>\n",
       "      <td>0</td>\n",
       "      <td>0.33</td>\n",
       "      <td>0</td>\n",
       "    </tr>\n",
       "    <tr>\n",
       "      <th>93</th>\n",
       "      <td>22.79</td>\n",
       "      <td>29.82</td>\n",
       "      <td>13.37</td>\n",
       "      <td>2097.61</td>\n",
       "      <td>18160.70</td>\n",
       "      <td>69.88</td>\n",
       "      <td>123.91</td>\n",
       "      <td>0</td>\n",
       "      <td>0.41</td>\n",
       "      <td>0</td>\n",
       "    </tr>\n",
       "    <tr>\n",
       "      <th>94</th>\n",
       "      <td>23.58</td>\n",
       "      <td>31.13</td>\n",
       "      <td>17.81</td>\n",
       "      <td>543.50</td>\n",
       "      <td>19594.30</td>\n",
       "      <td>72.83</td>\n",
       "      <td>126.01</td>\n",
       "      <td>0</td>\n",
       "      <td>0.38</td>\n",
       "      <td>0</td>\n",
       "    </tr>\n",
       "    <tr>\n",
       "      <th>95</th>\n",
       "      <td>20.51</td>\n",
       "      <td>25.70</td>\n",
       "      <td>10.39</td>\n",
       "      <td>6884.02</td>\n",
       "      <td>8588.24</td>\n",
       "      <td>79.84</td>\n",
       "      <td>137.02</td>\n",
       "      <td>0</td>\n",
       "      <td>0.06</td>\n",
       "      <td>0</td>\n",
       "    </tr>\n",
       "  </tbody>\n",
       "</table>\n",
       "<p>96 rows × 10 columns</p>\n",
       "</div>"
      ],
      "text/plain": [
       "    sl2l_diameter  ccbd_diameter  ifol_diameter  ecpl_volume  tral_volume   \n",
       "0           25.07          27.36          14.21      4295.10     19479.70  \\\n",
       "1           21.35          25.31          14.68      6884.02     14019.30   \n",
       "2           15.17          26.07           7.89      6884.02     17719.00   \n",
       "3           21.80          30.96          15.94      8952.53     15856.40   \n",
       "4           25.37          24.65           8.31      6884.02     22291.20   \n",
       "..            ...            ...            ...          ...          ...   \n",
       "91          25.60          31.12          14.71      6136.14     15791.80   \n",
       "92          23.55          28.11          15.56      9530.31      7114.43   \n",
       "93          22.79          29.82          13.37      2097.61     18160.70   \n",
       "94          23.58          31.13          17.81       543.50     19594.30   \n",
       "95          20.51          25.70          10.39      6884.02      8588.24   \n",
       "\n",
       "    sl2l_mean_length  ccbd_mean_length  label  pscore  psbin  \n",
       "0              77.97            111.24      1    0.78      1  \n",
       "1              71.58            115.11      1    0.48      0  \n",
       "2              60.09            109.94      1    0.74      1  \n",
       "3              74.39            110.00      1    0.88      1  \n",
       "4              76.13            131.73      1    0.33      0  \n",
       "..               ...               ...    ...     ...    ...  \n",
       "91             68.88            121.84      0    0.55      1  \n",
       "92             75.91            121.55      0    0.33      0  \n",
       "93             69.88            123.91      0    0.41      0  \n",
       "94             72.83            126.01      0    0.38      0  \n",
       "95             79.84            137.02      0    0.06      0  \n",
       "\n",
       "[96 rows x 10 columns]"
      ]
     },
     "execution_count": 23,
     "metadata": {},
     "output_type": "execute_result"
    }
   ],
   "source": [
    "df1"
   ]
  },
  {
   "cell_type": "code",
   "execution_count": 24,
   "metadata": {},
   "outputs": [
    {
     "data": {
      "text/plain": [
       "<function matplotlib.pyplot.show(close=None, block=None)>"
      ]
     },
     "execution_count": 24,
     "metadata": {},
     "output_type": "execute_result"
    },
    {
     "data": {
      "image/png": "[encoded data removed]",
      "text/plain": [
       "<Figure size 640x480 with 1 Axes>"
      ]
     },
     "metadata": {},
     "output_type": "display_data"
    }
   ],
   "source": [
    "X = df1.label\n",
    "y = df1.pscore\n",
    "plt.plot(X, y)\n",
    "plt.show"
   ]
  },
  {
   "cell_type": "code",
   "execution_count": 25,
   "metadata": {},
   "outputs": [
    {
     "data": {
      "text/html": [
       "<div>\n",
       "<style scoped>\n",
       "    .dataframe tbody tr th:only-of-type {\n",
       "        vertical-align: middle;\n",
       "    }\n",
       "\n",
       "    .dataframe tbody tr th {\n",
       "        vertical-align: top;\n",
       "    }\n",
       "\n",
       "    .dataframe thead th {\n",
       "        text-align: right;\n",
       "    }\n",
       "</style>\n",
       "<table border=\"1\" class=\"dataframe\">\n",
       "  <thead>\n",
       "    <tr style=\"text-align: right;\">\n",
       "      <th></th>\n",
       "      <th>label</th>\n",
       "      <th>pscore</th>\n",
       "    </tr>\n",
       "  </thead>\n",
       "  <tbody>\n",
       "    <tr>\n",
       "      <th>count</th>\n",
       "      <td>96.00</td>\n",
       "      <td>96.00</td>\n",
       "    </tr>\n",
       "    <tr>\n",
       "      <th>mean</th>\n",
       "      <td>0.52</td>\n",
       "      <td>0.48</td>\n",
       "    </tr>\n",
       "    <tr>\n",
       "      <th>std</th>\n",
       "      <td>0.50</td>\n",
       "      <td>0.26</td>\n",
       "    </tr>\n",
       "    <tr>\n",
       "      <th>min</th>\n",
       "      <td>0.00</td>\n",
       "      <td>0.01</td>\n",
       "    </tr>\n",
       "    <tr>\n",
       "      <th>25%</th>\n",
       "      <td>0.00</td>\n",
       "      <td>0.30</td>\n",
       "    </tr>\n",
       "    <tr>\n",
       "      <th>50%</th>\n",
       "      <td>1.00</td>\n",
       "      <td>0.46</td>\n",
       "    </tr>\n",
       "    <tr>\n",
       "      <th>75%</th>\n",
       "      <td>1.00</td>\n",
       "      <td>0.72</td>\n",
       "    </tr>\n",
       "    <tr>\n",
       "      <th>max</th>\n",
       "      <td>1.00</td>\n",
       "      <td>0.99</td>\n",
       "    </tr>\n",
       "  </tbody>\n",
       "</table>\n",
       "</div>"
      ],
      "text/plain": [
       "       label  pscore\n",
       "count  96.00   96.00\n",
       "mean    0.52    0.48\n",
       "std     0.50    0.26\n",
       "min     0.00    0.01\n",
       "25%     0.00    0.30\n",
       "50%     1.00    0.46\n",
       "75%     1.00    0.72\n",
       "max     1.00    0.99"
      ]
     },
     "execution_count": 25,
     "metadata": {},
     "output_type": "execute_result"
    }
   ],
   "source": [
    "df1[['label','pscore']].describe()"
   ]
  },
  {
   "cell_type": "code",
   "execution_count": 26,
   "metadata": {},
   "outputs": [
    {
     "data": {
      "image/png": "[encoded data removed]",
      "text/plain": [
       "<Figure size 1800x500 with 1 Axes>"
      ]
     },
     "metadata": {},
     "output_type": "display_data"
    }
   ],
   "source": [
    "data_boxplot = sns.boxplot(data = pscore, orient = \"h\", palette = \"Set2\", whis = 3)\n",
    "plt.title(\"Distribución de Propensity score de la base\")\n",
    "plt.xlabel(\"Valor\")\n",
    "data_boxplot.figure.set_size_inches(18,5)"
   ]
  },
  {
   "cell_type": "code",
   "execution_count": 27,
   "metadata": {},
   "outputs": [
    {
     "data": {
      "text/html": [
       "<div>\n",
       "<style scoped>\n",
       "    .dataframe tbody tr th:only-of-type {\n",
       "        vertical-align: middle;\n",
       "    }\n",
       "\n",
       "    .dataframe tbody tr th {\n",
       "        vertical-align: top;\n",
       "    }\n",
       "\n",
       "    .dataframe thead th {\n",
       "        text-align: right;\n",
       "    }\n",
       "</style>\n",
       "<table border=\"1\" class=\"dataframe\">\n",
       "  <thead>\n",
       "    <tr style=\"text-align: right;\">\n",
       "      <th></th>\n",
       "      <th>sl2l_diameter</th>\n",
       "      <th>ccbd_diameter</th>\n",
       "      <th>ifol_diameter</th>\n",
       "      <th>ecpl_volume</th>\n",
       "      <th>tral_volume</th>\n",
       "      <th>sl2l_mean_length</th>\n",
       "      <th>ccbd_mean_length</th>\n",
       "    </tr>\n",
       "  </thead>\n",
       "  <tbody>\n",
       "    <tr>\n",
       "      <th>count</th>\n",
       "      <td>96</td>\n",
       "      <td>96</td>\n",
       "      <td>96</td>\n",
       "      <td>96</td>\n",
       "      <td>96</td>\n",
       "      <td>96</td>\n",
       "      <td>96</td>\n",
       "    </tr>\n",
       "    <tr>\n",
       "      <th>mean</th>\n",
       "      <td>23</td>\n",
       "      <td>27</td>\n",
       "      <td>14</td>\n",
       "      <td>6884</td>\n",
       "      <td>14393</td>\n",
       "      <td>76</td>\n",
       "      <td>120</td>\n",
       "    </tr>\n",
       "    <tr>\n",
       "      <th>std</th>\n",
       "      <td>2</td>\n",
       "      <td>3</td>\n",
       "      <td>2</td>\n",
       "      <td>3135</td>\n",
       "      <td>5262</td>\n",
       "      <td>6</td>\n",
       "      <td>9</td>\n",
       "    </tr>\n",
       "    <tr>\n",
       "      <th>min</th>\n",
       "      <td>15</td>\n",
       "      <td>7</td>\n",
       "      <td>3</td>\n",
       "      <td>315</td>\n",
       "      <td>318</td>\n",
       "      <td>60</td>\n",
       "      <td>70</td>\n",
       "    </tr>\n",
       "    <tr>\n",
       "      <th>25%</th>\n",
       "      <td>21</td>\n",
       "      <td>25</td>\n",
       "      <td>13</td>\n",
       "      <td>5450</td>\n",
       "      <td>11815</td>\n",
       "      <td>71</td>\n",
       "      <td>115</td>\n",
       "    </tr>\n",
       "    <tr>\n",
       "      <th>50%</th>\n",
       "      <td>22</td>\n",
       "      <td>28</td>\n",
       "      <td>15</td>\n",
       "      <td>6884</td>\n",
       "      <td>14885</td>\n",
       "      <td>75</td>\n",
       "      <td>122</td>\n",
       "    </tr>\n",
       "    <tr>\n",
       "      <th>75%</th>\n",
       "      <td>24</td>\n",
       "      <td>30</td>\n",
       "      <td>16</td>\n",
       "      <td>8867</td>\n",
       "      <td>17724</td>\n",
       "      <td>80</td>\n",
       "      <td>126</td>\n",
       "    </tr>\n",
       "    <tr>\n",
       "      <th>max</th>\n",
       "      <td>29</td>\n",
       "      <td>32</td>\n",
       "      <td>19</td>\n",
       "      <td>14015</td>\n",
       "      <td>26423</td>\n",
       "      <td>95</td>\n",
       "      <td>137</td>\n",
       "    </tr>\n",
       "  </tbody>\n",
       "</table>\n",
       "</div>"
      ],
      "text/plain": [
       "       sl2l_diameter  ccbd_diameter  ifol_diameter  ecpl_volume  tral_volume   \n",
       "count             96             96             96           96           96  \\\n",
       "mean              23             27             14         6884        14393   \n",
       "std                2              3              2         3135         5262   \n",
       "min               15              7              3          315          318   \n",
       "25%               21             25             13         5450        11815   \n",
       "50%               22             28             15         6884        14885   \n",
       "75%               24             30             16         8867        17724   \n",
       "max               29             32             19        14015        26423   \n",
       "\n",
       "       sl2l_mean_length  ccbd_mean_length  \n",
       "count                96                96  \n",
       "mean                 76               120  \n",
       "std                   6                 9  \n",
       "min                  60                70  \n",
       "25%                  71               115  \n",
       "50%                  75               122  \n",
       "75%                  80               126  \n",
       "max                  95               137  "
      ]
     },
     "execution_count": 27,
     "metadata": {},
     "output_type": "execute_result"
    }
   ],
   "source": [
    "data = df[['sl2l_diameter', 'ccbd_diameter', 'ifol_diameter', 'ecpl_volume', 'tral_volume', \n",
    "       'sl2l_mean_length', 'ccbd_mean_length']]\n",
    "data.describe().astype(int)"
   ]
  },
  {
   "cell_type": "code",
   "execution_count": 28,
   "metadata": {},
   "outputs": [],
   "source": [
    "std_scale.fit(data)\n",
    "scaled_data = pd.DataFrame(std_scale.transform(data),\n",
    "                           columns=data.columns)"
   ]
  },
  {
   "cell_type": "code",
   "execution_count": 29,
   "metadata": {},
   "outputs": [
    {
     "data": {
      "image/png": "[encoded data removed]",
      "text/plain": [
       "<Figure size 1800x500 with 1 Axes>"
      ]
     },
     "metadata": {},
     "output_type": "display_data"
    }
   ],
   "source": [
    "data_boxplot = sns.boxplot(data = scaled_data, orient = \"h\", palette = \"Set2\", whis = 3)\n",
    "plt.title(\"Distribución de valores estandarizados por variable\")\n",
    "plt.xlabel(\"Valor\")\n",
    "data_boxplot.figure.set_size_inches(18,5)"
   ]
  },
  {
   "cell_type": "markdown",
   "metadata": {},
   "source": [
    "Obtener Reg Log para 1 de 7"
   ]
  },
  {
   "cell_type": "code",
   "execution_count": 30,
   "metadata": {},
   "outputs": [
    {
     "data": {
      "text/plain": [
       "(96, 7)"
      ]
     },
     "execution_count": 30,
     "metadata": {},
     "output_type": "execute_result"
    }
   ],
   "source": [
    "df2 = df[['sl2l_diameter', 'ccbd_diameter', 'ifol_diameter', 'ecpl_volume', 'tral_volume', \n",
    "       'sl2l_mean_length', 'ccbd_mean_length']]\n",
    "df2.shape\n"
   ]
  },
  {
   "cell_type": "markdown",
   "metadata": {},
   "source": [
    "*** PRUEBAS"
   ]
  },
  {
   "cell_type": "code",
   "execution_count": 35,
   "metadata": {},
   "outputs": [],
   "source": [
    "import statsmodels.api as sm\n",
    "import statsmodels.formula.api as smf\n"
   ]
  },
  {
   "cell_type": "code",
   "execution_count": 36,
   "metadata": {},
   "outputs": [
    {
     "name": "stdout",
     "output_type": "stream",
     "text": [
      "                            OLS Regression Results                            \n",
      "==============================================================================\n",
      "Dep. Variable:          sl2l_diameter   R-squared:                       0.242\n",
      "Model:                            OLS   Adj. R-squared:                  0.191\n",
      "Method:                 Least Squares   F-statistic:                     4.731\n",
      "Date:                Wed, 29 Nov 2023   Prob (F-statistic):           0.000317\n",
      "Time:                        07:40:35   Log-Likelihood:                -213.58\n",
      "No. Observations:                  96   AIC:                             441.2\n",
      "Df Residuals:                      89   BIC:                             459.1\n",
      "Df Model:                           6                                         \n",
      "Covariance Type:            nonrobust                                         \n",
      "====================================================================================\n",
      "                       coef    std err          t      P>|t|      [0.025      0.975]\n",
      "------------------------------------------------------------------------------------\n",
      "const               14.5794      4.549      3.205      0.002       5.542      23.617\n",
      "ccbd_diameter        0.1259      0.078      1.624      0.108      -0.028       0.280\n",
      "ifol_diameter        0.0990      0.089      1.115      0.268      -0.077       0.275\n",
      "ecpl_volume          0.0001   8.03e-05      1.520      0.132   -3.75e-05       0.000\n",
      "tral_volume       6.963e-05   4.94e-05      1.410      0.162   -2.85e-05       0.000\n",
      "sl2l_mean_length    -0.0633      0.040     -1.592      0.115      -0.142       0.016\n",
      "ccbd_mean_length     0.0542      0.025      2.137      0.035       0.004       0.105\n",
      "==============================================================================\n",
      "Omnibus:                        7.517   Durbin-Watson:                   1.703\n",
      "Prob(Omnibus):                  0.023   Jarque-Bera (JB):                7.105\n",
      "Skew:                          -0.565   Prob(JB):                       0.0287\n",
      "Kurtosis:                       3.705   Cond. No.                     3.20e+05\n",
      "==============================================================================\n",
      "\n",
      "Notes:\n",
      "[1] Standard Errors assume that the covariance matrix of the errors is correctly specified.\n",
      "[2] The condition number is large, 3.2e+05. This might indicate that there are\n",
      "strong multicollinearity or other numerical problems.\n"
     ]
    }
   ],
   "source": [
    "y = df2.loc[:, df2.columns == 'sl2l_diameter']\n",
    "X = sm.add_constant(df2.loc[:, df2.columns != 'sl2l_diameter'])\n",
    "\n",
    "print(sm.OLS(y, X).fit().summary())"
   ]
  },
  {
   "cell_type": "code",
   "execution_count": 54,
   "metadata": {},
   "outputs": [
    {
     "name": "stdout",
     "output_type": "stream",
     "text": [
      "                                 OLS Regression Results                                \n",
      "=======================================================================================\n",
      "Dep. Variable:                      y   R-squared (uncentered):                   0.242\n",
      "Model:                            OLS   Adj. R-squared (uncentered):              0.191\n",
      "Method:                 Least Squares   F-statistic:                              4.785\n",
      "Date:                Wed, 29 Nov 2023   Prob (F-statistic):                    0.000281\n",
      "Time:                        07:49:57   Log-Likelihood:                         -122.93\n",
      "No. Observations:                  96   AIC:                                      257.9\n",
      "Df Residuals:                      90   BIC:                                      273.2\n",
      "Df Model:                           6                                                  \n",
      "Covariance Type:            nonrobust                                                  \n",
      "==============================================================================\n",
      "                 coef    std err          t      P>|t|      [0.025      0.975]\n",
      "------------------------------------------------------------------------------\n",
      "const               0          0        nan        nan           0           0\n",
      "x1             0.1833      0.112      1.633      0.106      -0.040       0.406\n",
      "x2             0.1097      0.098      1.121      0.265      -0.085       0.304\n",
      "x3             0.1482      0.097      1.529      0.130      -0.044       0.341\n",
      "x4             0.1418      0.100      1.418      0.160      -0.057       0.340\n",
      "x5            -0.1582      0.099     -1.601      0.113      -0.355       0.038\n",
      "x6             0.2067      0.096      2.149      0.034       0.016       0.398\n",
      "==============================================================================\n",
      "Omnibus:                        7.517   Durbin-Watson:                   1.703\n",
      "Prob(Omnibus):                  0.023   Jarque-Bera (JB):                7.105\n",
      "Skew:                          -0.565   Prob(JB):                       0.0287\n",
      "Kurtosis:                       3.705   Cond. No.                          inf\n",
      "==============================================================================\n",
      "\n",
      "Notes:\n",
      "[1] R² is computed without centering (uncentered) since the model does not contain a constant.\n",
      "[2] Standard Errors assume that the covariance matrix of the errors is correctly specified.\n",
      "[3] The smallest eigenvalue is      0. This might indicate that there are\n",
      "strong multicollinearity problems or that the design matrix is singular.\n"
     ]
    }
   ],
   "source": [
    "y = df2.loc[:, df2.columns == 'sl2l_diameter']\n",
    "X1 = sm.add_constant(df2.loc[:, df2.columns != 'sl2l_diameter'])\n",
    "std = StandardScaler()\n",
    "std1 = StandardScaler()\n",
    "std.fit(X1)\n",
    "std1.fit(y)\n",
    "data = std.transform(X1)\n",
    "y1 = std1.transform(y)\n",
    "print(sm.OLS(y1, data).fit().summary())"
   ]
  },
  {
   "cell_type": "code",
   "execution_count": 55,
   "metadata": {},
   "outputs": [
    {
     "name": "stdout",
     "output_type": "stream",
     "text": [
      "                                 OLS Regression Results                                \n",
      "=======================================================================================\n",
      "Dep. Variable:                      y   R-squared (uncentered):                   0.126\n",
      "Model:                            OLS   Adj. R-squared (uncentered):              0.068\n",
      "Method:                 Least Squares   F-statistic:                              2.164\n",
      "Date:                Wed, 29 Nov 2023   Prob (F-statistic):                      0.0538\n",
      "Time:                        07:51:29   Log-Likelihood:                         -129.75\n",
      "No. Observations:                  96   AIC:                                      271.5\n",
      "Df Residuals:                      90   BIC:                                      286.9\n",
      "Df Model:                           6                                                  \n",
      "Covariance Type:            nonrobust                                                  \n",
      "==============================================================================\n",
      "                 coef    std err          t      P>|t|      [0.025      0.975]\n",
      "------------------------------------------------------------------------------\n",
      "const               0          0        nan        nan           0           0\n",
      "x1             0.1708      0.112      1.529      0.130      -0.051       0.393\n",
      "x2             0.2134      0.120      1.776      0.079      -0.025       0.452\n",
      "x3             0.1721      0.104      1.652      0.102      -0.035       0.379\n",
      "x4            -0.1693      0.107     -1.581      0.117      -0.382       0.043\n",
      "x5             0.0787      0.107      0.734      0.465      -0.134       0.292\n",
      "x6            -0.1478      0.105     -1.412      0.161      -0.356       0.060\n",
      "==============================================================================\n",
      "Omnibus:                        2.326   Durbin-Watson:                   2.068\n",
      "Prob(Omnibus):                  0.312   Jarque-Bera (JB):                2.199\n",
      "Skew:                          -0.366   Prob(JB):                        0.333\n",
      "Kurtosis:                       2.886   Cond. No.                          inf\n",
      "==============================================================================\n",
      "\n",
      "Notes:\n",
      "[1] R² is computed without centering (uncentered) since the model does not contain a constant.\n",
      "[2] Standard Errors assume that the covariance matrix of the errors is correctly specified.\n",
      "[3] The smallest eigenvalue is      0. This might indicate that there are\n",
      "strong multicollinearity problems or that the design matrix is singular.\n"
     ]
    }
   ],
   "source": [
    "y = df2.loc[:, df2.columns == 'ecpl_volume']\n",
    "X1 = sm.add_constant(df2.loc[:, df2.columns != 'ecpl_volume'])\n",
    "std = StandardScaler()\n",
    "std1 = StandardScaler()\n",
    "std.fit(X1)\n",
    "std1.fit(y)\n",
    "data = std.transform(X1)\n",
    "y1 = std1.transform(y)\n",
    "print(sm.OLS(y1, data).fit().summary())"
   ]
  },
  {
   "cell_type": "code",
   "execution_count": 56,
   "metadata": {},
   "outputs": [
    {
     "name": "stdout",
     "output_type": "stream",
     "text": [
      "                                 OLS Regression Results                                \n",
      "=======================================================================================\n",
      "Dep. Variable:                      y   R-squared (uncentered):                   0.351\n",
      "Model:                            OLS   Adj. R-squared (uncentered):              0.307\n",
      "Method:                 Least Squares   F-statistic:                              8.099\n",
      "Date:                Wed, 29 Nov 2023   Prob (F-statistic):                    5.25e-07\n",
      "Time:                        07:52:11   Log-Likelihood:                         -115.49\n",
      "No. Observations:                  96   AIC:                                      243.0\n",
      "Df Residuals:                      90   BIC:                                      258.4\n",
      "Df Model:                           6                                                  \n",
      "Covariance Type:            nonrobust                                                  \n",
      "==============================================================================\n",
      "                 coef    std err          t      P>|t|      [0.025      0.975]\n",
      "------------------------------------------------------------------------------\n",
      "const               0          0        nan        nan           0           0\n",
      "x1             0.1570      0.096      1.633      0.106      -0.034       0.348\n",
      "x2             0.1168      0.090      1.293      0.199      -0.063       0.296\n",
      "x3             0.1586      0.089      1.776      0.079      -0.019       0.336\n",
      "x4             0.2749      0.089      3.090      0.003       0.098       0.452\n",
      "x5            -0.2847      0.088     -3.244      0.002      -0.459      -0.110\n",
      "x6             0.1928      0.089      2.167      0.033       0.016       0.369\n",
      "==============================================================================\n",
      "Omnibus:                       53.561   Durbin-Watson:                   2.016\n",
      "Prob(Omnibus):                  0.000   Jarque-Bera (JB):              268.567\n",
      "Skew:                          -1.714   Prob(JB):                     4.80e-59\n",
      "Kurtosis:                      10.442   Cond. No.                          inf\n",
      "==============================================================================\n",
      "\n",
      "Notes:\n",
      "[1] R² is computed without centering (uncentered) since the model does not contain a constant.\n",
      "[2] Standard Errors assume that the covariance matrix of the errors is correctly specified.\n",
      "[3] The smallest eigenvalue is      0. This might indicate that there are\n",
      "strong multicollinearity problems or that the design matrix is singular.\n"
     ]
    }
   ],
   "source": [
    "y = df2.loc[:, df2.columns == 'ccbd_diameter']\n",
    "X1 = sm.add_constant(df2.loc[:, df2.columns != 'ccbd_diameter'])\n",
    "std = StandardScaler()\n",
    "std1 = StandardScaler()\n",
    "std.fit(X1)\n",
    "std1.fit(y)\n",
    "data = std.transform(X1)\n",
    "y1 = std1.transform(y)\n",
    "print(sm.OLS(y1, data).fit().summary())"
   ]
  },
  {
   "cell_type": "code",
   "execution_count": 57,
   "metadata": {},
   "outputs": [
    {
     "name": "stdout",
     "output_type": "stream",
     "text": [
      "                                 OLS Regression Results                                \n",
      "=======================================================================================\n",
      "Dep. Variable:                      y   R-squared (uncentered):                   0.132\n",
      "Model:                            OLS   Adj. R-squared (uncentered):              0.074\n",
      "Method:                 Least Squares   F-statistic:                              2.286\n",
      "Date:                Wed, 29 Nov 2023   Prob (F-statistic):                      0.0423\n",
      "Time:                        07:52:51   Log-Likelihood:                         -129.41\n",
      "No. Observations:                  96   AIC:                                      270.8\n",
      "Df Residuals:                      90   BIC:                                      286.2\n",
      "Df Model:                           6                                                  \n",
      "Covariance Type:            nonrobust                                                  \n",
      "==============================================================================\n",
      "                 coef    std err          t      P>|t|      [0.025      0.975]\n",
      "------------------------------------------------------------------------------\n",
      "const               0          0        nan        nan           0           0\n",
      "x1             0.1256      0.112      1.121      0.265      -0.097       0.348\n",
      "x2             0.1561      0.121      1.293      0.199      -0.084       0.396\n",
      "x3             0.1709      0.103      1.652      0.102      -0.035       0.376\n",
      "x4             0.1167      0.107      1.086      0.280      -0.097       0.330\n",
      "x5             0.0769      0.107      0.719      0.474      -0.135       0.289\n",
      "x6             0.0289      0.105      0.274      0.785      -0.181       0.238\n",
      "==============================================================================\n",
      "Omnibus:                       24.277   Durbin-Watson:                   2.141\n",
      "Prob(Omnibus):                  0.000   Jarque-Bera (JB):               33.992\n",
      "Skew:                          -1.195   Prob(JB):                     4.16e-08\n",
      "Kurtosis:                       4.670   Cond. No.                          inf\n",
      "==============================================================================\n",
      "\n",
      "Notes:\n",
      "[1] R² is computed without centering (uncentered) since the model does not contain a constant.\n",
      "[2] Standard Errors assume that the covariance matrix of the errors is correctly specified.\n",
      "[3] The smallest eigenvalue is      0. This might indicate that there are\n",
      "strong multicollinearity problems or that the design matrix is singular.\n"
     ]
    }
   ],
   "source": [
    "y = df2.loc[:, df2.columns == 'ifol_diameter']\n",
    "X1 = sm.add_constant(df2.loc[:, df2.columns != 'ifol_diameter'])\n",
    "std = StandardScaler()\n",
    "std1 = StandardScaler()\n",
    "std.fit(X1)\n",
    "std1.fit(y)\n",
    "data = std.transform(X1)\n",
    "y1 = std1.transform(y)\n",
    "print(sm.OLS(y1, data).fit().summary())"
   ]
  },
  {
   "cell_type": "code",
   "execution_count": 58,
   "metadata": {},
   "outputs": [
    {
     "name": "stdout",
     "output_type": "stream",
     "text": [
      "                                 OLS Regression Results                                \n",
      "=======================================================================================\n",
      "Dep. Variable:                      y   R-squared (uncentered):                   0.161\n",
      "Model:                            OLS   Adj. R-squared (uncentered):              0.105\n",
      "Method:                 Least Squares   F-statistic:                              2.885\n",
      "Date:                Wed, 29 Nov 2023   Prob (F-statistic):                      0.0128\n",
      "Time:                        07:53:34   Log-Likelihood:                         -127.77\n",
      "No. Observations:                  96   AIC:                                      267.5\n",
      "Df Residuals:                      90   BIC:                                      282.9\n",
      "Df Model:                           6                                                  \n",
      "Covariance Type:            nonrobust                                                  \n",
      "==============================================================================\n",
      "                 coef    std err          t      P>|t|      [0.025      0.975]\n",
      "------------------------------------------------------------------------------\n",
      "const               0          0        nan        nan           0           0\n",
      "x1            -0.1750      0.109     -1.601      0.113      -0.392       0.042\n",
      "x2            -0.3678      0.113     -3.244      0.002      -0.593      -0.143\n",
      "x3             0.0743      0.103      0.719      0.474      -0.131       0.280\n",
      "x4             0.0755      0.103      0.734      0.465      -0.129       0.280\n",
      "x5             0.1058      0.106      1.000      0.320      -0.104       0.316\n",
      "x6             0.1812      0.102      1.778      0.079      -0.021       0.384\n",
      "==============================================================================\n",
      "Omnibus:                        0.768   Durbin-Watson:                   1.682\n",
      "Prob(Omnibus):                  0.681   Jarque-Bera (JB):                0.353\n",
      "Skew:                           0.098   Prob(JB):                        0.838\n",
      "Kurtosis:                       3.223   Cond. No.                          inf\n",
      "==============================================================================\n",
      "\n",
      "Notes:\n",
      "[1] R² is computed without centering (uncentered) since the model does not contain a constant.\n",
      "[2] Standard Errors assume that the covariance matrix of the errors is correctly specified.\n",
      "[3] The smallest eigenvalue is      0. This might indicate that there are\n",
      "strong multicollinearity problems or that the design matrix is singular.\n"
     ]
    }
   ],
   "source": [
    "y = df2.loc[:, df2.columns == 'sl2l_mean_length']\n",
    "X1 = sm.add_constant(df2.loc[:, df2.columns != 'sl2l_mean_length'])\n",
    "std = StandardScaler()\n",
    "std1 = StandardScaler()\n",
    "std.fit(X1)\n",
    "std1.fit(y)\n",
    "data = std.transform(X1)\n",
    "y1 = std1.transform(y)\n",
    "print(sm.OLS(y1, data).fit().summary())"
   ]
  }
 ],
 "metadata": {
  "kernelspec": {
   "display_name": "venv",
   "language": "python",
   "name": "python3"
  },
  "language_info": {
   "codemirror_mode": {
    "name": "ipython",
    "version": 3
   },
   "file_extension": ".py",
   "mimetype": "text/x-python",
   "name": "python",
   "nbconvert_exporter": "python",
   "pygments_lexer": "ipython3",
   "version": "3.8.10"
  },
  "orig_nbformat": 4
 },
 "nbformat": 4,
 "nbformat_minor": 2
}
